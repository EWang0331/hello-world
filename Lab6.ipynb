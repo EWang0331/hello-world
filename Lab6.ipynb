{
 "cells": [
  {
   "cell_type": "code",
   "execution_count": 20,
   "id": "8227db3c-c2a1-46b5-baf9-c5dbdd430162",
   "metadata": {},
   "outputs": [
    {
     "name": "stdin",
     "output_type": "stream",
     "text": [
      "What is your name?:  1\n",
      "How much money would you like to deposit?:  1\n"
     ]
    },
    {
     "name": "stdout",
     "output_type": "stream",
     "text": [
      "Hello 1, your new balance is: 1\n"
     ]
    }
   ],
   "source": [
    "balance = 0\n",
    "name = input(\"What is your name?: \")\n",
    "cur = input(\"How much money would you like to deposit?: \")\n",
    "newCur = int(cur)\n",
    "balance += newCur\n",
    "print(\"Hello \" + name + \", your new balance is: \" + str(balance))"
   ]
  }
 ],
 "metadata": {
  "kernelspec": {
   "display_name": "Python 3 (ipykernel)",
   "language": "python",
   "name": "python3"
  },
  "language_info": {
   "codemirror_mode": {
    "name": "ipython",
    "version": 3
   },
   "file_extension": ".py",
   "mimetype": "text/x-python",
   "name": "python",
   "nbconvert_exporter": "python",
   "pygments_lexer": "ipython3",
   "version": "3.12.4"
  }
 },
 "nbformat": 4,
 "nbformat_minor": 5
}
